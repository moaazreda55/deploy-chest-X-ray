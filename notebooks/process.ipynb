{
 "cells": [
  {
   "cell_type": "code",
   "execution_count": 1,
   "id": "6b5909d5",
   "metadata": {},
   "outputs": [
    {
     "name": "stdout",
     "output_type": "stream",
     "text": [
      "d:\\project\\deploy-chest-X-ray\n"
     ]
    }
   ],
   "source": [
    "%cd .."
   ]
  },
  {
   "cell_type": "code",
   "execution_count": 2,
   "id": "50830ca9",
   "metadata": {},
   "outputs": [],
   "source": [
    "from PIL import Image"
   ]
  },
  {
   "cell_type": "code",
   "execution_count": 3,
   "id": "a54d6db4",
   "metadata": {},
   "outputs": [
    {
     "data": {
      "text/plain": [
       "<function PIL.Image.open(fp: 'StrOrBytesPath | IO[bytes]', mode: \"Literal['r']\" = 'r', formats: 'list[str] | tuple[str, ...] | None' = None) -> 'ImageFile.ImageFile'>"
      ]
     },
     "execution_count": 3,
     "metadata": {},
     "output_type": "execute_result"
    }
   ],
   "source": [
    "Image.open"
   ]
  },
  {
   "cell_type": "code",
   "execution_count": 4,
   "id": "4255f92a",
   "metadata": {},
   "outputs": [],
   "source": [
    "from pathlib import Path \n",
    "import os \n",
    "import pandas as pd\n",
    "from glob import glob"
   ]
  },
  {
   "cell_type": "code",
   "execution_count": 5,
   "id": "f17c1514",
   "metadata": {},
   "outputs": [
    {
     "data": {
      "text/plain": [
       "1341"
      ]
     },
     "execution_count": 5,
     "metadata": {},
     "output_type": "execute_result"
    }
   ],
   "source": [
    "folder_path = r\"data\\train\\NORMAL\"\n",
    "imgs_paths = glob(folder_path + r\"\\*.jpeg\")\n",
    "len(imgs_paths)"
   ]
  },
  {
   "cell_type": "code",
   "execution_count": 6,
   "id": "109f7d78",
   "metadata": {},
   "outputs": [],
   "source": [
    "\n",
    "def build_data_map(folder_path):\n",
    "    image_path = glob(folder_path + r\"\\*.jpeg\")\n",
    "\n",
    "    clas = Path(folder_path).name\n",
    "    split = Path(folder_path).parent.name\n",
    "\n",
    "    return pd.DataFrame({\n",
    "        \"image\": image_path,\n",
    "        \"class\": clas,\n",
    "        \"split\": split\n",
    "        })"
   ]
  },
  {
   "cell_type": "code",
   "execution_count": 7,
   "id": "b1824276",
   "metadata": {},
   "outputs": [],
   "source": [
    "\n",
    "\n",
    "test_normal = build_data_map(r\"data\\test\\NORMAL\")\n",
    "test_pnem = build_data_map(r\"data\\test\\PNEUMONIA\")\n",
    "\n",
    "train_normal = build_data_map(r\"data\\train\\NORMAL\")  #1341 images number\n",
    "train_pnem = build_data_map(r\"data\\train\\PNEUMONIA\") #3875 images number\n",
    "\n",
    "val_normal = build_data_map(r\"data\\val\\NORMAL\") #8 images number\n",
    "val_pnem = build_data_map(r\"data\\val\\PNEUMONIA\") #8 images number"
   ]
  },
  {
   "cell_type": "code",
   "execution_count": 8,
   "id": "80994fb5",
   "metadata": {},
   "outputs": [
    {
     "name": "stdout",
     "output_type": "stream",
     "text": [
      "1341\n",
      "%%%%%%%%%%%%%%%%%%%%%%\n",
      "3875\n",
      "%%%%%%%%%%%%%%%%%%%%%%\n",
      "8\n",
      "%%%%%%%%%%%%%%%%%%%%%%\n",
      "8\n"
     ]
    }
   ],
   "source": [
    "print(len(train_normal))\n",
    "print(\"%\"*22)\n",
    "print(len(train_pnem))\n",
    "print(\"%\"*22)\n",
    "print(len(val_normal))\n",
    "print(\"%\"*22)\n",
    "print(len(val_pnem))"
   ]
  },
  {
   "cell_type": "code",
   "execution_count": 9,
   "id": "008faa9d",
   "metadata": {},
   "outputs": [],
   "source": [
    "train_pnem_balance = train_pnem.sample(n=1341,replace=True)"
   ]
  },
  {
   "cell_type": "code",
   "execution_count": 10,
   "id": "61159eaa",
   "metadata": {},
   "outputs": [],
   "source": [
    "data = pd.concat([\n",
    "    test_normal,\n",
    "    test_pnem,\n",
    "    train_normal,\n",
    "    train_pnem_balance,\n",
    "    val_normal,\n",
    "    val_pnem\n",
    "])"
   ]
  },
  {
   "cell_type": "code",
   "execution_count": 11,
   "id": "17fbf29d",
   "metadata": {},
   "outputs": [
    {
     "data": {
      "text/html": [
       "<div>\n",
       "<style scoped>\n",
       "    .dataframe tbody tr th:only-of-type {\n",
       "        vertical-align: middle;\n",
       "    }\n",
       "\n",
       "    .dataframe tbody tr th {\n",
       "        vertical-align: top;\n",
       "    }\n",
       "\n",
       "    .dataframe thead th {\n",
       "        text-align: right;\n",
       "    }\n",
       "</style>\n",
       "<table border=\"1\" class=\"dataframe\">\n",
       "  <thead>\n",
       "    <tr style=\"text-align: right;\">\n",
       "      <th></th>\n",
       "      <th>image</th>\n",
       "      <th>class</th>\n",
       "      <th>split</th>\n",
       "    </tr>\n",
       "  </thead>\n",
       "  <tbody>\n",
       "    <tr>\n",
       "      <th>0</th>\n",
       "      <td>data\\test\\NORMAL\\IM-0001-0001.jpeg</td>\n",
       "      <td>NORMAL</td>\n",
       "      <td>test</td>\n",
       "    </tr>\n",
       "    <tr>\n",
       "      <th>1</th>\n",
       "      <td>data\\test\\NORMAL\\IM-0003-0001.jpeg</td>\n",
       "      <td>NORMAL</td>\n",
       "      <td>test</td>\n",
       "    </tr>\n",
       "    <tr>\n",
       "      <th>2</th>\n",
       "      <td>data\\test\\NORMAL\\IM-0005-0001.jpeg</td>\n",
       "      <td>NORMAL</td>\n",
       "      <td>test</td>\n",
       "    </tr>\n",
       "    <tr>\n",
       "      <th>3</th>\n",
       "      <td>data\\test\\NORMAL\\IM-0006-0001.jpeg</td>\n",
       "      <td>NORMAL</td>\n",
       "      <td>test</td>\n",
       "    </tr>\n",
       "    <tr>\n",
       "      <th>4</th>\n",
       "      <td>data\\test\\NORMAL\\IM-0007-0001.jpeg</td>\n",
       "      <td>NORMAL</td>\n",
       "      <td>test</td>\n",
       "    </tr>\n",
       "    <tr>\n",
       "      <th>...</th>\n",
       "      <td>...</td>\n",
       "      <td>...</td>\n",
       "      <td>...</td>\n",
       "    </tr>\n",
       "    <tr>\n",
       "      <th>3</th>\n",
       "      <td>data\\val\\PNEUMONIA\\person1949_bacteria_4880.jpeg</td>\n",
       "      <td>PNEUMONIA</td>\n",
       "      <td>val</td>\n",
       "    </tr>\n",
       "    <tr>\n",
       "      <th>4</th>\n",
       "      <td>data\\val\\PNEUMONIA\\person1950_bacteria_4881.jpeg</td>\n",
       "      <td>PNEUMONIA</td>\n",
       "      <td>val</td>\n",
       "    </tr>\n",
       "    <tr>\n",
       "      <th>5</th>\n",
       "      <td>data\\val\\PNEUMONIA\\person1951_bacteria_4882.jpeg</td>\n",
       "      <td>PNEUMONIA</td>\n",
       "      <td>val</td>\n",
       "    </tr>\n",
       "    <tr>\n",
       "      <th>6</th>\n",
       "      <td>data\\val\\PNEUMONIA\\person1952_bacteria_4883.jpeg</td>\n",
       "      <td>PNEUMONIA</td>\n",
       "      <td>val</td>\n",
       "    </tr>\n",
       "    <tr>\n",
       "      <th>7</th>\n",
       "      <td>data\\val\\PNEUMONIA\\person1954_bacteria_4886.jpeg</td>\n",
       "      <td>PNEUMONIA</td>\n",
       "      <td>val</td>\n",
       "    </tr>\n",
       "  </tbody>\n",
       "</table>\n",
       "<p>3322 rows × 3 columns</p>\n",
       "</div>"
      ],
      "text/plain": [
       "                                               image      class split\n",
       "0                 data\\test\\NORMAL\\IM-0001-0001.jpeg     NORMAL  test\n",
       "1                 data\\test\\NORMAL\\IM-0003-0001.jpeg     NORMAL  test\n",
       "2                 data\\test\\NORMAL\\IM-0005-0001.jpeg     NORMAL  test\n",
       "3                 data\\test\\NORMAL\\IM-0006-0001.jpeg     NORMAL  test\n",
       "4                 data\\test\\NORMAL\\IM-0007-0001.jpeg     NORMAL  test\n",
       "..                                               ...        ...   ...\n",
       "3   data\\val\\PNEUMONIA\\person1949_bacteria_4880.jpeg  PNEUMONIA   val\n",
       "4   data\\val\\PNEUMONIA\\person1950_bacteria_4881.jpeg  PNEUMONIA   val\n",
       "5   data\\val\\PNEUMONIA\\person1951_bacteria_4882.jpeg  PNEUMONIA   val\n",
       "6   data\\val\\PNEUMONIA\\person1952_bacteria_4883.jpeg  PNEUMONIA   val\n",
       "7   data\\val\\PNEUMONIA\\person1954_bacteria_4886.jpeg  PNEUMONIA   val\n",
       "\n",
       "[3322 rows x 3 columns]"
      ]
     },
     "execution_count": 11,
     "metadata": {},
     "output_type": "execute_result"
    }
   ],
   "source": [
    "data"
   ]
  },
  {
   "cell_type": "code",
   "execution_count": 13,
   "id": "ae54e197",
   "metadata": {},
   "outputs": [
    {
     "name": "stderr",
     "output_type": "stream",
     "text": [
      "100%|██████████| 3322/3322 [02:44<00:00, 20.21it/s]\n"
     ]
    }
   ],
   "source": [
    "from tqdm import tqdm\n",
    "resized_img_path=[]\n",
    "for i, row in tqdm(data.iterrows(),total=data.shape[0]):\n",
    "    image_path = row[\"image\"]\n",
    "    image = Image.open(image_path)\n",
    "    resized_img = image.resize((128,128))\n",
    "\n",
    "    img_path = Path(image_path)\n",
    "    img_name = img_path.name\n",
    "    img_clas = img_path.parent.name\n",
    "    img_split = img_path.parent.parent.name\n",
    "\n",
    "    final_img_name = img_split + \"_\" + img_clas + \"_\" + img_name\n",
    "    final_img_path = r\"data/resize/\" + final_img_name\n",
    "\n",
    "    resized_img.save(final_img_path)\n",
    "    resized_img_path.append(final_img_path)"
   ]
  },
  {
   "cell_type": "code",
   "execution_count": 14,
   "id": "d540785f",
   "metadata": {},
   "outputs": [],
   "source": [
    "data['resized']=resized_img_path"
   ]
  },
  {
   "cell_type": "code",
   "execution_count": null,
   "id": "3d6f4406",
   "metadata": {},
   "outputs": [],
   "source": [
    "data.to_csv(\"./data_map.csv\",index=False)"
   ]
  }
 ],
 "metadata": {
  "kernelspec": {
   "display_name": "Python 3",
   "language": "python",
   "name": "python3"
  },
  "language_info": {
   "codemirror_mode": {
    "name": "ipython",
    "version": 3
   },
   "file_extension": ".py",
   "mimetype": "text/x-python",
   "name": "python",
   "nbconvert_exporter": "python",
   "pygments_lexer": "ipython3",
   "version": "3.11.9"
  }
 },
 "nbformat": 4,
 "nbformat_minor": 5
}
